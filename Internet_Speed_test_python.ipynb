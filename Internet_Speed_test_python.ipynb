{
 "cells": [
  {
   "cell_type": "code",
   "execution_count": null,
   "id": "4b4fbf85",
   "metadata": {},
   "outputs": [],
   "source": [
    "from tkinter import *\n",
    "import speedtest\n",
    "\n",
    "def internet_speed_test():\n",
    "    sp = speedtest.Speedtest()\n",
    "    sp.get_servers()\n",
    "    down = str( round(sp.download()/(10 ** 6),3))+\" Mbps\"\n",
    "    up = str( round(sp.upload()/(10 ** 6), 3))+\" Mbps\"\n",
    "    lab_Down.config(text=down,fg =\"#f3dfa2\",bg=\"#e63946\")\n",
    "    lab_Up.config(text=up,fg =\"#f3dfa2\",bg=\"#e63946\")\n",
    "    \n",
    "sp = Tk()\n",
    "sp.title(\"Internet Speed Test\")\n",
    "sp.geometry(\"500x600\")\n",
    "lab=Label(sp,text=\"Internet Speed Test\" ,font=(\"Time New Roman\",29,\"bold\"),fg = \"white\",bg=\"#e63946\")\n",
    "lab.place(x=10,y=40,height = 50,width=500) \n",
    "lab=Label(sp,text=\"Download Speed\" ,font=(\"Time New Roman\",25,\"bold\"),fg = \"White\",bg=\"#e63946\")\n",
    "lab.place(x=60,y=160,height = 50,width=380)\n",
    "lab_Down=Label(sp,text=\"00\" ,font=(\"Time New Roman\",25,\"bold\"),fg = \"white\",bg=\"#e63946\")\n",
    "lab_Down.place(x=60,y=210,height = 50,width=380)\n",
    "lab=Label(sp,text=\"Upload Speed\" ,font=(\"Time New Roman\",25,\"bold\"),fg = \"white\",bg=\"#e63946\")\n",
    "lab.place(x=60,y=300,height = 50,width=380)\n",
    "lab_Up=Label(sp,text=\"00\" ,font=(\"Time New Roman\",25,\"bold\"),fg = \"white\",bg=\"#e63946\")\n",
    "lab_Up.place(x=60,y=360,height = 50,width=380)\n",
    "btn=Button(sp,text=\"Start Testing\" ,font=(\"Time New Roman\",25,\"bold\"),fg = \"white\",bg=\"#e63946\",relief=\"raised\",command=internet_speed_test)\n",
    "btn.place(x=60,y=450,height = 50,width=380)\n",
    "lab=Label(sp,text=\"Made By Het 20DIT072\" ,font=(\"Time New Roman\",10,\"bold\"),fg = \"#fdfcdc\",bg=\"#e63946\")\n",
    "lab.place(x=10,y=560,height = 50,width=500) \n",
    "\n",
    "sp.mainloop()"
   ]
  },
  {
   "cell_type": "code",
   "execution_count": null,
   "id": "bf7dde04",
   "metadata": {},
   "outputs": [],
   "source": []
  }
 ],
 "metadata": {
  "kernelspec": {
   "display_name": "Python 3 (ipykernel)",
   "language": "python",
   "name": "python3"
  },
  "language_info": {
   "codemirror_mode": {
    "name": "ipython",
    "version": 3
   },
   "file_extension": ".py",
   "mimetype": "text/x-python",
   "name": "python",
   "nbconvert_exporter": "python",
   "pygments_lexer": "ipython3",
   "version": "3.9.12"
  }
 },
 "nbformat": 4,
 "nbformat_minor": 5
}
